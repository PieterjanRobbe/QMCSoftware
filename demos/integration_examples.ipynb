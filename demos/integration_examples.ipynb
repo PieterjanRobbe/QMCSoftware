{
 "cells": [
  {
   "cell_type": "markdown",
   "metadata": {},
   "source": [
    "# Integration Examples using QMCPy package"
   ]
  },
  {
   "cell_type": "markdown",
   "metadata": {},
   "source": [
    "In this demo, we show how to use `qmcpy` for performing numerical multiple integration of two built-in integrands, namely, the Keister function and the Asian put option payoff. To start, we import the `qmcpy` module and the function `arrange()` from `numpy` for generating evenly spaced discrete vectors in the examples."
   ]
  },
  {
   "cell_type": "code",
   "execution_count": 1,
   "metadata": {},
   "outputs": [],
   "source": [
    "from qmcpy import *\n",
    "from numpy import arange"
   ]
  },
  {
   "cell_type": "markdown",
   "metadata": {},
   "source": [
    "## Keister Example\n",
    "\n",
    "We recall briefly the mathematical definitions of the Keister function, the Gaussian measure, and the Sobol distribution:\n",
    "\n",
    "* Keister integrand: $y_j = \\pi^{d/2} \\cos(||x_j||_2)$\n",
    "    \n",
    "* Gaussian true measure: $\\mathcal{N}(0,\\frac{1}{2})$\n",
    "    \n",
    "* Sobol discrete distribution: $x_j \\overset{lds}{\\sim} \\mathcal{U}(0,1)$"
   ]
  },
  {
   "cell_type": "code",
   "execution_count": 2,
   "metadata": {},
   "outputs": [
    {
     "name": "stdout",
     "output_type": "stream",
     "text": [
      "Solution: 2.1718         \n",
      "Keister (Integrand Object)\n",
      "Sobol (DiscreteDistribution Object)\n",
      "    dimension       3\n",
      "    randomize       1\n",
      "    seed            7\n",
      "    backend         qrng\n",
      "    mimics          StdUniform\n",
      "    graycode        0\n",
      "Gaussian (TrueMeasure Object)\n",
      "    distrib_name    Sobol\n",
      "    mean            0\n",
      "    covariance      0.5000\n",
      "CubQMCSobolG (StoppingCriterion Object)\n",
      "    abs_tol         0.0500\n",
      "    rel_tol         0\n",
      "    n_init          1024\n",
      "    n_max           34359738368\n",
      "LDTransformData (AccumulateData Object)\n",
      "    n_total         1024\n",
      "    solution        2.1718\n",
      "    r_lag           4\n",
      "    time_integrate  0.0029\n"
     ]
    }
   ],
   "source": [
    "dim = 3\n",
    "distribution = Sobol(dimension=dim, randomize=True, seed=7, backend='QRNG')\n",
    "measure = Gaussian(distribution, covariance=1./2)\n",
    "integrand = Keister(measure)\n",
    "solution,data = CubQMCSobolG(integrand,abs_tol=.05).integrate()\n",
    "print(data)"
   ]
  },
  {
   "cell_type": "markdown",
   "metadata": {},
   "source": [
    "## Arithmetic-Mean Asian Put Option: Single Level \n",
    "\n",
    "In this example, we want to estimate the payoff of an European Asian put option that matures at time $T$. The key mathematical entities are defined as follows:\n",
    "\n",
    "* Stock price at time $t_j := jT/d$ for $j=1,\\dots,d$ is a function of its initial price $S(0)$, interest rate $r$, and volatility $\\sigma$: $S(t_j) = S(0)e^{\\left(r-\\frac{\\sigma^2}{2}\\right)t_j + \\sigma\\mathcal{B}(t_j)}$\n",
    "\n",
    "* Discounted put option payoff is defined as the difference of a fixed strike price $K$ and the arithmetic average of the underlying stock prices at $d$ discrete time intervals in $[0,T]$: $max \\left(K-\\frac{1}{d}\\sum_{j=1}^{d} S(t_j), 0 \\right) e^{-rT}$\n",
    "\n",
    "* Brownian motion true measure: $\\mathcal{B}(t_j) = B(t_{j-1}) + Z_j\\sqrt{t_j-t_{j-1}} \\;$ for $\\;Z_j \\sim \\mathcal{N}(0,1)$\n",
    "\n",
    "* Lattice discrete distribution: $\\:\\: x_j  \\overset{lds}{\\sim}    \\mathcal{U}(0,1)$"
   ]
  },
  {
   "cell_type": "code",
   "execution_count": 3,
   "metadata": {},
   "outputs": [
    {
     "name": "stdout",
     "output_type": "stream",
     "text": [
      "Solution: 6.2744         \n",
      "AsianCall (Integrand Object)\n",
      "    volatility      0.5000\n",
      "    start_price     30\n",
      "    strike_price    25\n",
      "    interest_rate   0.0100\n",
      "    mean_type       arithmetic\n",
      "    dimensions      64\n",
      "    dim_fracs       0\n",
      "Lattice (DiscreteDistribution Object)\n",
      "    dimension       64\n",
      "    randomize       1\n",
      "    seed            7\n",
      "    backend         gail\n",
      "    mimics          StdUniform\n",
      "BrownianMotion (TrueMeasure Object)\n",
      "    distrib_name    Lattice\n",
      "    time_vector     [ 0.016  0.031  0.047 ...  0.969  0.984  1.000]\n",
      "    drift           0\n",
      "CubQMCLatticeG (StoppingCriterion Object)\n",
      "    abs_tol         0.0500\n",
      "    rel_tol         0\n",
      "    n_init          1024\n",
      "    n_max           34359738368\n",
      "LDTransformData (AccumulateData Object)\n",
      "    n_total         4096\n",
      "    solution        6.2744\n",
      "    r_lag           4\n",
      "    time_integrate  0.0529\n"
     ]
    }
   ],
   "source": [
    "distribution = Lattice(dimension=64, randomize=True, seed=7, backend='GAIL')\n",
    "measure = BrownianMotion(distribution)\n",
    "integrand = AsianCall(\n",
    "    measure = measure,\n",
    "    volatility = 0.5,\n",
    "    start_price = 30,\n",
    "    strike_price = 25,\n",
    "    interest_rate = 0.01,\n",
    "    mean_type = 'arithmetic')\n",
    "solution,data = CubQMCLatticeG(integrand, abs_tol=.05).integrate()\n",
    "print(data)"
   ]
  },
  {
   "cell_type": "markdown",
   "metadata": {},
   "source": [
    "## Arithmetic-Mean Asian Put Option: Multi-Level\n",
    "\n",
    "This example is similar to the last one except that we use Gile's multi-level method for estimation of the option price.  The main idea can be summarized as follows:\n",
    "\n",
    "$Y_0 = 0$\n",
    "\n",
    "$Y_1 = \\text{ Asian option monitored at } t = [\\frac{1}{4}, \\frac{1}{2}, \\frac{3}{4}, 1]$\n",
    "\n",
    "$Y_2 = \\text{ Asian option monitored at } t= [\\frac{1}{16}, \\frac{1}{8}, ... , 1]$\n",
    "\n",
    "$Y_3 = \\text{ Asian option monitored at } t= [\\frac{1}{64}, \\frac{1}{32}, ... , 1]$\n",
    "\n",
    "$Z_1 = \\mathbb{E}[Y_1-Y_0] + \\mathbb{E}[Y_2-Y_1] + \\mathbb{E}[Y_3-Y_2] = \\mathbb{E}[Y_3]$"
   ]
  },
  {
   "cell_type": "markdown",
   "metadata": {},
   "source": [
    "The total run time for this example is about one-third of that for the last example."
   ]
  },
  {
   "cell_type": "code",
   "execution_count": 4,
   "metadata": {},
   "outputs": [
    {
     "name": "stdout",
     "output_type": "stream",
     "text": [
      "Solution: 6.2690         \n",
      "AsianCall (Integrand Object)\n",
      "    volatility      0.5000\n",
      "    start_price     30\n",
      "    strike_price    25\n",
      "    interest_rate   0.0100\n",
      "    mean_type       arithmetic\n",
      "    dimensions      [ 4 16 64]\n",
      "    dim_fracs       [ 0.000  4.000  4.000]\n",
      "IIDStdGaussian (DiscreteDistribution Object)\n",
      "    dimension       64\n",
      "    seed            7\n",
      "    mimics          StdGaussian\n",
      "BrownianMotion (TrueMeasure Object)\n",
      "    distrib_name    IIDStdGaussian\n",
      "    time_vector     [ 0.016  0.031  0.047 ...  0.969  0.984  1.000]\n",
      "    drift           0\n",
      "CubMCCLT (StoppingCriterion Object)\n",
      "    inflate         1.2000\n",
      "    alpha           0.0100\n",
      "    abs_tol         0.0500\n",
      "    rel_tol         0\n",
      "    n_init          1024\n",
      "    n_max           10000000000\n",
      "MeanVarData (AccumulateData Object)\n",
      "    levels          3\n",
      "    solution        6.2690\n",
      "    n               [ 279321.000  29913.000  3291.000]\n",
      "    n_total         315597\n",
      "    confid_int      [ 6.218  6.321]\n",
      "    time_integrate  0.1619\n"
     ]
    }
   ],
   "source": [
    "distribution = IIDStdGaussian(seed=7)\n",
    "measure = BrownianMotion(distribution)\n",
    "integrand = AsianCall(measure,\n",
    "        volatility = 0.5,\n",
    "        start_price = 30,\n",
    "        strike_price = 25,\n",
    "        interest_rate = 0.01,\n",
    "        mean_type = 'arithmetic',\n",
    "        multi_level_dimensions = [4,16,64])\n",
    "solution,data = CubMCCLT(integrand, abs_tol=.05).integrate()\n",
    "print(data)"
   ]
  },
  {
   "cell_type": "code",
   "execution_count": null,
   "metadata": {},
   "outputs": [],
   "source": []
  }
 ],
 "metadata": {
  "kernelspec": {
   "display_name": "Python 3",
   "language": "python",
   "name": "python3"
  },
  "language_info": {
   "codemirror_mode": {
    "name": "ipython",
    "version": 3
   },
   "file_extension": ".py",
   "mimetype": "text/x-python",
   "name": "python",
   "nbconvert_exporter": "python",
   "pygments_lexer": "ipython3",
   "version": "3.6.9"
  }
 },
 "nbformat": 4,
 "nbformat_minor": 1
}
